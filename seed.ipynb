{
 "cells": [
  {
   "cell_type": "code",
   "execution_count": 2,
   "metadata": {},
   "outputs": [
    {
     "name": "stdout",
     "output_type": "stream",
     "text": [
      "Shuffled order with labels1:\n",
      "[tensor([1]), tensor([1])]\n",
      "[tensor([6]), tensor([6])]\n",
      "[tensor([5]), tensor([5])]\n",
      "[tensor([8]), tensor([8])]\n",
      "[tensor([3]), tensor([3])]\n",
      "[tensor([4]), tensor([4])]\n",
      "[tensor([2]), tensor([2])]\n",
      "[tensor([0]), tensor([0])]\n",
      "[tensor([7]), tensor([7])]\n",
      "[tensor([9]), tensor([9])]\n",
      "\n",
      "Shuffled order with labels2:\n",
      "[tensor([3]), tensor([6])]\n",
      "[tensor([1]), tensor([8])]\n",
      "[tensor([0]), tensor([9])]\n",
      "[tensor([5]), tensor([4])]\n",
      "[tensor([4]), tensor([5])]\n",
      "[tensor([6]), tensor([3])]\n",
      "[tensor([8]), tensor([1])]\n",
      "[tensor([9]), tensor([0])]\n",
      "[tensor([2]), tensor([7])]\n",
      "[tensor([7]), tensor([2])]\n"
     ]
    }
   ],
   "source": [
    "import torch\n",
    "from torch.utils.data import Dataset, DataLoader\n",
    "\n",
    "# サンプルデータセットの作成\n",
    "class SampleDataset(Dataset):\n",
    "    def __init__(self, data, labels):\n",
    "        self.data = data\n",
    "        self.labels = labels\n",
    "\n",
    "    def __len__(self):\n",
    "        return len(self.data)\n",
    "\n",
    "    def __getitem__(self, idx):\n",
    "        return self.data[idx], self.labels[idx]\n",
    "\n",
    "# データとラベルの定義\n",
    "data = torch.arange(10)\n",
    "labels1 = torch.arange(10)\n",
    "labels2 = torch.arange(9, -1, -1)  # ラベルを反転\n",
    "\n",
    "# シード値を設定してデータローダを作成\n",
    "torch.manual_seed(100)\n",
    "dataset1 = SampleDataset(data, labels1)\n",
    "dataloader1 = DataLoader(dataset1, batch_size=1, shuffle=True)\n",
    "\n",
    "torch.manual_seed(100)\n",
    "dataset2 = SampleDataset(data, labels2)\n",
    "dataloader2 = DataLoader(dataset2, batch_size=1, shuffle=True)\n",
    "\n",
    "# シャッフルされたデータの順序を確認\n",
    "print(\"Shuffled order with labels1:\")\n",
    "for batch in dataloader1:\n",
    "    print(batch)\n",
    "\n",
    "print(\"\\nShuffled order with labels2:\")\n",
    "for batch in dataloader2:\n",
    "    print(batch)\n"
   ]
  },
  {
   "cell_type": "code",
   "execution_count": null,
   "metadata": {},
   "outputs": [],
   "source": [
    "import torch\n",
    "\n",
    "# シード値を設定\n",
    "torch.manual_seed(42)\n",
    "\n",
    "# ランダムテンソルを生成\n",
    "random_tensor = torch.randn(3, 3)\n",
    "print(random_tensor)\n",
    "\n",
    "# 再度シード値を設定して同じ乱数を生成\n",
    "torch.manual_seed(42)\n",
    "same_random_tensor = torch.randn(3, 3)\n",
    "print(same_random_tensor)\n",
    "\n",
    "# 異なるシード値を設定すると異なる乱数が生成される\n",
    "torch.manual_seed(42)\n",
    "different_random_tensor = torch.randn(3, 3)\n",
    "print(different_random_tensor)\n"
   ]
  },
  {
   "cell_type": "code",
   "execution_count": 2,
   "metadata": {},
   "outputs": [],
   "source": [
    "import torch"
   ]
  },
  {
   "cell_type": "code",
   "execution_count": 11,
   "metadata": {},
   "outputs": [
    {
     "name": "stdout",
     "output_type": "stream",
     "text": [
      "tensor([0.4963, 0.7682, 0.0885])\n",
      "tensor([0.4963, 0.7682, 0.0885, 0.1320])\n",
      "tensor([0.4963, 0.7682, 0.0885])\n",
      "tensor([0.4963, 0.7682, 0.0885, 0.1320])\n",
      "tensor([0.4963, 0.7682, 0.0885])\n",
      "tensor([0.4963, 0.7682, 0.0885, 0.1320])\n"
     ]
    }
   ],
   "source": [
    "for i in range(3):\n",
    "\ttorch.manual_seed(0)\n",
    "\tprint(torch.rand(3))\n",
    "\ttorch.manual_seed(0)\n",
    "\tprint(torch.rand(4))"
   ]
  },
  {
   "cell_type": "code",
   "execution_count": null,
   "metadata": {},
   "outputs": [],
   "source": []
  }
 ],
 "metadata": {
  "kernelspec": {
   "display_name": "Python 3",
   "language": "python",
   "name": "python3"
  },
  "language_info": {
   "codemirror_mode": {
    "name": "ipython",
    "version": 3
   },
   "file_extension": ".py",
   "mimetype": "text/x-python",
   "name": "python",
   "nbconvert_exporter": "python",
   "pygments_lexer": "ipython3",
   "version": "3.10.13"
  }
 },
 "nbformat": 4,
 "nbformat_minor": 2
}
